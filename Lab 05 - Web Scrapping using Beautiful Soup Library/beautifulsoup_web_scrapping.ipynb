{
  "cells": [
    {
      "cell_type": "markdown",
      "metadata": {
        "id": "Hro0OGgXlu6d"
      },
      "source": [
        "# **Web Scrapping using BeatifulSoup**\n",
        "\n",
        "BeautifulSoup is a Python library used for extracting data from HTML and XML files. It creates a parse tree from the page's source code, which makes it easy to navigate and search the data.\n",
        "\n"
      ]
    },
    {
      "cell_type": "markdown",
      "metadata": {
        "id": "8jFHqsrPnIrD"
      },
      "source": [
        "# **Installing BeautifulSoup and Requests**\n",
        "\n",
        "\n",
        "Before using BeautifulSoup, you'll need to install it and the requests library, which helps in fetching web pages."
      ]
    },
    {
      "cell_type": "code",
      "execution_count": 1,
      "metadata": {
        "colab": {
          "base_uri": "https://localhost:8080/"
        },
        "id": "65vwKdXdnPz9",
        "outputId": "0a63d8b1-b836-403c-d749-cfc057c698b6"
      },
      "outputs": [
        {
          "name": "stdout",
          "output_type": "stream",
          "text": [
            "Requirement already satisfied: beautifulsoup4 in /usr/local/lib/python3.10/dist-packages (4.12.3)\n",
            "Requirement already satisfied: soupsieve>1.2 in /usr/local/lib/python3.10/dist-packages (from beautifulsoup4) (2.6)\n",
            "Requirement already satisfied: requests in /usr/local/lib/python3.10/dist-packages (2.32.3)\n",
            "Requirement already satisfied: charset-normalizer<4,>=2 in /usr/local/lib/python3.10/dist-packages (from requests) (3.4.0)\n",
            "Requirement already satisfied: idna<4,>=2.5 in /usr/local/lib/python3.10/dist-packages (from requests) (3.10)\n",
            "Requirement already satisfied: urllib3<3,>=1.21.1 in /usr/local/lib/python3.10/dist-packages (from requests) (2.2.3)\n",
            "Requirement already satisfied: certifi>=2017.4.17 in /usr/local/lib/python3.10/dist-packages (from requests) (2024.8.30)\n"
          ]
        }
      ],
      "source": [
        "!pip install beautifulsoup4\n",
        "!pip install requests"
      ]
    },
    {
      "cell_type": "code",
      "execution_count": 2,
      "metadata": {
        "id": "qa9F9wwmnSEh"
      },
      "outputs": [],
      "source": [
        "import requests\n",
        "from bs4 import BeautifulSoup as bs"
      ]
    },
    {
      "cell_type": "markdown",
      "metadata": {
        "id": "mq0DBjJUna_r"
      },
      "source": [
        "# **Basic Workflow of Web Scraping**\n",
        "\n",
        "1.   Fetch the web page using requests.\n",
        "2.   Parse the page using BeautifulSoup.\n",
        "3.   Extract specific data by navigating the parsed HTML.\n",
        "\n",
        "\n"
      ]
    },
    {
      "cell_type": "code",
      "execution_count": 22,
      "metadata": {
        "id": "8_JAHev7nw6t"
      },
      "outputs": [],
      "source": [
        "link = 'https://jamil226.github.io/CUI-Web/Navbar/about.html'"
      ]
    },
    {
      "cell_type": "code",
      "execution_count": 29,
      "metadata": {
        "id": "Re3UxQ07uQ5_"
      },
      "outputs": [],
      "source": [
        "# Create headers with a user-agent\n",
        "headers = {\n",
        "    'User-Agent': 'Mozilla/5.0 (Windows NT 10.0; Win64; x64) AppleWebKit/537.36 (KHTML, like Gecko) Chrome/91.0.4472.124 Safari/537.36'\n",
        "}"
      ]
    },
    {
      "cell_type": "code",
      "execution_count": 30,
      "metadata": {
        "id": "Y9Up0CtguU8C"
      },
      "outputs": [],
      "source": [
        "# Send the request with headers\n",
        "response = requests.get(link, headers=headers)"
      ]
    },
    {
      "cell_type": "code",
      "execution_count": 31,
      "metadata": {
        "colab": {
          "base_uri": "https://localhost:8080/"
        },
        "id": "LUH_NN4Mujoj",
        "outputId": "feeab94c-0e54-497a-b782-e24904931d7e"
      },
      "outputs": [
        {
          "name": "stdout",
          "output_type": "stream",
          "text": [
            "<!DOCTYPE html>\n",
            "<html lang=\"en\">\n",
            " <head>\n",
            "  <title>\n",
            "   About | Comsats University Sahiwal Campus\n",
            "  </title>\n",
            "  <meta charset=\"utf-8\"/>\n",
            "  <meta content=\"IE=edge\" http-equiv=\"X-UA-Compatible\"/>\n",
            "  <meta content=\"width=device-width, initial-scale=1.0\" name=\"viewport\"/>\n",
            "  <link href=\"assets/images/favicon/apple-touch-icon.png\" rel=\"apple-touch-icon\" sizes=\"180x180\"/>\n",
            "  <link href=\"assets/images/favicon/favicon-32x32.png\" rel=\"icon\" sizes=\"32x32\" type=\"image/png\"/>\n",
            "  <link href=\"assets/images/favicon/favicon-16x16.png\" rel=\"icon\" sizes=\"16x16\" type=\"image/png\"/>\n",
            "  <link href=\"assets/images/favicon/site.webmanifest\" rel=\"manifest\"/>\n",
            "  <link href=\"assets/css/style2.css\" rel=\"stylesheet\"/>\n",
            " </head>\n",
            " <body>\n",
            "  <header>\n",
            "   <div class=\"nav-container\">\n",
            "    <nav>\n",
            "     <ul class=\"navbar\">\n",
            "      <li class=\"navbar-item\">\n",
            "       <a class=\"navbar-item-link\" href=\"index.html\">\n",
            "        Home\n",
            "       </a>\n",
            "      </li>\n",
            "      <li class=\"navbar-item\">\n",
            "       <a class=\"navbar-item-link\" href=\"about.html\">\n",
            "        About\n",
            "       </a>\n",
            "      </li>\n",
            "      <li class=\"navbar-item\">\n",
            "       <a class=\"navbar-item-link\" href=\"campus-life.html\">\n",
            "        Campus Life\n",
            "       </a>\n",
            "      </li>\n",
            "      <li class=\"navbar-item\">\n",
            "       <a class=\"navbar-item-link\" href=\"faqs.html\">\n",
            "        FAQs\n",
            "       </a>\n",
            "      </li>\n",
            "      <li class=\"navbar-item\">\n",
            "       <a class=\"navbar-item-link\" href=\"contact.html\">\n",
            "        Contact\n",
            "       </a>\n",
            "      </li>\n",
            "     </ul>\n",
            "    </nav>\n",
            "   </div>\n",
            "  </header>\n",
            "  <main>\n",
            "   <center>\n",
            "    <img alt=\"Image not found\" src=\"assets/images/about-img.jpg\" style=\"margin:30px; border: 3px solid #5d3fd3\"/>\n",
            "   </center>\n",
            "   <h3>\n",
            "    Introduction\n",
            "   </h3>\n",
            "   <p>\n",
            "    COMSATS University Islamabad, Sahiwal campus is situated half-way between Lahore and Multan on COMSATS Road off G.T Road Sahiwal, was formally inaugurated on September 23, 2006. The campus is purpose built and is spread over area of 36 acres on land.\n",
            "   </p>\n",
            "   <p>\n",
            "    CUI Sahiwal is committed to provide state of the art training and education to our students and prepare them for successful career in their respective fields. Our mission is to encourage learning and promote research activities in order to facilitate our students to fulfill their aims and aspirations objectively.\n",
            "   </p>\n",
            "   <p>\n",
            "    We are offering a broad range of programs, especially in the areas of Management Sciences, Computer Science, Biosciences, Engineering and Humanities. Our programs are focused on creating crucially needed transitions toward sustainable practice. CUI Sahiwal strives to prepare a knowledge workforce which is comparable to the best in the world. This is achieved through instruction and the use of up-to-date technology. Our highly qualified faculty plays the role mentors for our students and nurtures their individual talents. We also accentuate group projects to make our students learn to be co-operative and productive as team members.\n",
            "   </p>\n",
            "  </main>\n",
            "  <footer>\n",
            "   <div class=\"footer\">\n",
            "    <h5>\n",
            "     All Rights Reserved © 2023 | Designed by CUI Sahiwal\n",
            "    </h5>\n",
            "   </div>\n",
            "  </footer>\n",
            " </body>\n",
            "</html>\n",
            "\n"
          ]
        }
      ],
      "source": [
        "\n",
        "if response.status_code == 200:\n",
        "    soup = bs(response.text, 'html.parser')\n",
        "    print(soup.prettify())\n",
        "else:\n",
        "    print(f\"Failed to retrieve the page. Status code: {response.status_code}\")\n"
      ]
    },
    {
      "cell_type": "code",
      "execution_count": null,
      "metadata": {
        "colab": {
          "base_uri": "https://localhost:8080/"
        },
        "id": "yPcicOcHoJ46",
        "outputId": "476913a2-5594-42f2-bbc9-ca01e271e3c6"
      },
      "outputs": [
        {
          "data": {
            "text/plain": [
              "['html',\n",
              " '\\n',\n",
              " <html lang=\"en\">\n",
              " <head>\n",
              " <title>About | Comsats University Sahiwal Campus</title>\n",
              " <meta charset=\"utf-8\"/>\n",
              " <meta content=\"IE=edge\" http-equiv=\"X-UA-Compatible\"/>\n",
              " <meta content=\"width=device-width, initial-scale=1.0\" name=\"viewport\"/>\n",
              " <link href=\"assets/images/favicon/apple-touch-icon.png\" rel=\"apple-touch-icon\" sizes=\"180x180\"/>\n",
              " <link href=\"assets/images/favicon/favicon-32x32.png\" rel=\"icon\" sizes=\"32x32\" type=\"image/png\"/>\n",
              " <link href=\"assets/images/favicon/favicon-16x16.png\" rel=\"icon\" sizes=\"16x16\" type=\"image/png\"/>\n",
              " <link href=\"assets/images/favicon/site.webmanifest\" rel=\"manifest\"/>\n",
              " <link href=\"assets/css/style2.css\" rel=\"stylesheet\"/>\n",
              " </head>\n",
              " <body>\n",
              " <header>\n",
              " <div class=\"nav-container\">\n",
              " <nav>\n",
              " <ul class=\"navbar\">\n",
              " <li class=\"navbar-item\">\n",
              " <a class=\"navbar-item-link\" href=\"index.html\">Home</a>\n",
              " </li>\n",
              " <li class=\"navbar-item\">\n",
              " <a class=\"navbar-item-link\" href=\"about.html\">About</a>\n",
              " </li>\n",
              " <li class=\"navbar-item\">\n",
              " <a class=\"navbar-item-link\" href=\"campus-life.html\">Campus Life</a>\n",
              " </li>\n",
              " <li class=\"navbar-item\">\n",
              " <a class=\"navbar-item-link\" href=\"faqs.html\">FAQs</a>\n",
              " </li>\n",
              " <li class=\"navbar-item\">\n",
              " <a class=\"navbar-item-link\" href=\"contact.html\">Contact</a>\n",
              " </li>\n",
              " \n",
              " </ul>\n",
              " </nav>\n",
              " </div>\n",
              " </header>\n",
              " <main>\n",
              " <center>\n",
              " <img alt=\"Image not found\" src=\"assets/images/about-img.jpg\" style=\"margin:30px; border: 3px solid #5d3fd3\"/>\n",
              " </center>\n",
              " <h3>Introduction</h3>\n",
              " <p>\n",
              "                 COMSATS University Islamabad, Sahiwal campus is situated half-way between Lahore and Multan on COMSATS Road off G.T Road Sahiwal, was formally inaugurated on September 23, 2006. The campus is purpose built and is spread over area of 36 acres on land.\n",
              "             </p>\n",
              " <p>\n",
              "                 CUI Sahiwal is committed to provide state of the art training and education to our students and prepare them for successful career in their respective fields. Our mission is to encourage learning and promote research activities in order to facilitate our students to fulfill their aims and aspirations objectively.\n",
              "             </p>\n",
              " <p>\n",
              "                 We are offering a broad range of programs, especially in the areas of Management Sciences, Computer Science, Biosciences, Engineering and Humanities. Our programs are focused on creating crucially needed transitions toward sustainable practice. CUI Sahiwal strives to prepare a knowledge workforce which is comparable to the best in the world. This is achieved through instruction and the use of up-to-date technology. Our highly qualified faculty plays the role mentors for our students and nurtures their individual talents. We also accentuate group projects to make our students learn to be co-operative and productive as team members.\n",
              "             </p>\n",
              " </main>\n",
              " <footer>\n",
              " <div class=\"footer\">\n",
              " <h5>All Rights Reserved © 2023 | Designed by CUI Sahiwal </h5>\n",
              " </div>\n",
              " </footer>\n",
              " </body>\n",
              " </html>]"
            ]
          },
          "execution_count": 32,
          "metadata": {},
          "output_type": "execute_result"
        }
      ],
      "source": [
        "list(soup.children)"
      ]
    },
    {
      "cell_type": "code",
      "execution_count": 33,
      "metadata": {
        "colab": {
          "base_uri": "https://localhost:8080/",
          "height": 35
        },
        "id": "4DGucvnLoL4o",
        "outputId": "34db4b09-b63b-4490-a8b6-f0770287f91e"
      },
      "outputs": [
        {
          "data": {
            "application/vnd.google.colaboratory.intrinsic+json": {
              "type": "string"
            },
            "text/plain": [
              "'html'"
            ]
          },
          "execution_count": 33,
          "metadata": {},
          "output_type": "execute_result"
        }
      ],
      "source": [
        "list(soup.children)[0]"
      ]
    },
    {
      "cell_type": "code",
      "execution_count": 37,
      "metadata": {
        "colab": {
          "base_uri": "https://localhost:8080/",
          "height": 35
        },
        "id": "-fWMVmg7q0Gv",
        "outputId": "90a1c430-44d2-4463-b71f-f37dc711005d"
      },
      "outputs": [
        {
          "data": {
            "application/vnd.google.colaboratory.intrinsic+json": {
              "type": "string"
            },
            "text/plain": [
              "'\\n'"
            ]
          },
          "execution_count": 37,
          "metadata": {},
          "output_type": "execute_result"
        }
      ],
      "source": [
        "list(soup.children)[1]"
      ]
    },
    {
      "cell_type": "code",
      "execution_count": 39,
      "metadata": {
        "id": "ptJUJwIpq7tf"
      },
      "outputs": [],
      "source": [
        "html = list(soup.children)[2]"
      ]
    },
    {
      "cell_type": "code",
      "execution_count": 40,
      "metadata": {
        "colab": {
          "base_uri": "https://localhost:8080/"
        },
        "id": "jIr3VZ8FrDx9",
        "outputId": "70cc5e94-b5f6-433b-c69b-68c9ce1a5123"
      },
      "outputs": [
        {
          "data": {
            "text/plain": [
              "['\\n',\n",
              " <head>\n",
              " <title>About | Comsats University Sahiwal Campus</title>\n",
              " <meta charset=\"utf-8\"/>\n",
              " <meta content=\"IE=edge\" http-equiv=\"X-UA-Compatible\"/>\n",
              " <meta content=\"width=device-width, initial-scale=1.0\" name=\"viewport\"/>\n",
              " <link href=\"assets/images/favicon/apple-touch-icon.png\" rel=\"apple-touch-icon\" sizes=\"180x180\"/>\n",
              " <link href=\"assets/images/favicon/favicon-32x32.png\" rel=\"icon\" sizes=\"32x32\" type=\"image/png\"/>\n",
              " <link href=\"assets/images/favicon/favicon-16x16.png\" rel=\"icon\" sizes=\"16x16\" type=\"image/png\"/>\n",
              " <link href=\"assets/images/favicon/site.webmanifest\" rel=\"manifest\"/>\n",
              " <link href=\"assets/css/style2.css\" rel=\"stylesheet\"/>\n",
              " </head>,\n",
              " '\\n',\n",
              " <body>\n",
              " <header>\n",
              " <div class=\"nav-container\">\n",
              " <nav>\n",
              " <ul class=\"navbar\">\n",
              " <li class=\"navbar-item\">\n",
              " <a class=\"navbar-item-link\" href=\"index.html\">Home</a>\n",
              " </li>\n",
              " <li class=\"navbar-item\">\n",
              " <a class=\"navbar-item-link\" href=\"about.html\">About</a>\n",
              " </li>\n",
              " <li class=\"navbar-item\">\n",
              " <a class=\"navbar-item-link\" href=\"campus-life.html\">Campus Life</a>\n",
              " </li>\n",
              " <li class=\"navbar-item\">\n",
              " <a class=\"navbar-item-link\" href=\"faqs.html\">FAQs</a>\n",
              " </li>\n",
              " <li class=\"navbar-item\">\n",
              " <a class=\"navbar-item-link\" href=\"contact.html\">Contact</a>\n",
              " </li>\n",
              " \n",
              " </ul>\n",
              " </nav>\n",
              " </div>\n",
              " </header>\n",
              " <main>\n",
              " <center>\n",
              " <img alt=\"Image not found\" src=\"assets/images/about-img.jpg\" style=\"margin:30px; border: 3px solid #5d3fd3\"/>\n",
              " </center>\n",
              " <h3>Introduction</h3>\n",
              " <p>\n",
              "                 COMSATS University Islamabad, Sahiwal campus is situated half-way between Lahore and Multan on COMSATS Road off G.T Road Sahiwal, was formally inaugurated on September 23, 2006. The campus is purpose built and is spread over area of 36 acres on land.\n",
              "             </p>\n",
              " <p>\n",
              "                 CUI Sahiwal is committed to provide state of the art training and education to our students and prepare them for successful career in their respective fields. Our mission is to encourage learning and promote research activities in order to facilitate our students to fulfill their aims and aspirations objectively.\n",
              "             </p>\n",
              " <p>\n",
              "                 We are offering a broad range of programs, especially in the areas of Management Sciences, Computer Science, Biosciences, Engineering and Humanities. Our programs are focused on creating crucially needed transitions toward sustainable practice. CUI Sahiwal strives to prepare a knowledge workforce which is comparable to the best in the world. This is achieved through instruction and the use of up-to-date technology. Our highly qualified faculty plays the role mentors for our students and nurtures their individual talents. We also accentuate group projects to make our students learn to be co-operative and productive as team members.\n",
              "             </p>\n",
              " </main>\n",
              " <footer>\n",
              " <div class=\"footer\">\n",
              " <h5>All Rights Reserved © 2023 | Designed by CUI Sahiwal </h5>\n",
              " </div>\n",
              " </footer>\n",
              " </body>,\n",
              " '\\n']"
            ]
          },
          "execution_count": 40,
          "metadata": {},
          "output_type": "execute_result"
        }
      ],
      "source": [
        "list(html.children)"
      ]
    },
    {
      "cell_type": "code",
      "execution_count": 42,
      "metadata": {
        "id": "yH5r-4mNso6q"
      },
      "outputs": [],
      "source": [
        "head = list(html.children)[1]"
      ]
    },
    {
      "cell_type": "code",
      "execution_count": 44,
      "metadata": {
        "colab": {
          "base_uri": "https://localhost:8080/"
        },
        "id": "oB0DAKEnuEMr",
        "outputId": "34d4c3da-e4f0-443d-c71b-c4f2d5e64f16"
      },
      "outputs": [
        {
          "data": {
            "text/plain": [
              "<title>About | Comsats University Sahiwal Campus</title>"
            ]
          },
          "execution_count": 44,
          "metadata": {},
          "output_type": "execute_result"
        }
      ],
      "source": [
        "list(head.children)[1]"
      ]
    },
    {
      "cell_type": "code",
      "execution_count": 45,
      "metadata": {
        "id": "pAfdS-n8wam4"
      },
      "outputs": [],
      "source": [
        "title = list(head.children)[1]"
      ]
    },
    {
      "cell_type": "code",
      "execution_count": 46,
      "metadata": {
        "id": "CzPEH-GpwrPK"
      },
      "outputs": [],
      "source": [
        "data = title.get_text()"
      ]
    },
    {
      "cell_type": "code",
      "execution_count": 47,
      "metadata": {
        "colab": {
          "base_uri": "https://localhost:8080/"
        },
        "id": "cO1xapAjwvQC",
        "outputId": "b8f2d002-7947-4757-aace-2ac79faead30"
      },
      "outputs": [
        {
          "name": "stdout",
          "output_type": "stream",
          "text": [
            "About | Comsats University Sahiwal Campus\n"
          ]
        }
      ],
      "source": [
        "print(data)"
      ]
    },
    {
      "cell_type": "code",
      "execution_count": 48,
      "metadata": {
        "colab": {
          "base_uri": "https://localhost:8080/"
        },
        "id": "QnWVEMlmww7p",
        "outputId": "337176b6-75b9-441a-da9f-6c6fb9a8b95f"
      },
      "outputs": [
        {
          "data": {
            "text/plain": [
              "[<p>\n",
              "                 COMSATS University Islamabad, Sahiwal campus is situated half-way between Lahore and Multan on COMSATS Road off G.T Road Sahiwal, was formally inaugurated on September 23, 2006. The campus is purpose built and is spread over area of 36 acres on land.\n",
              "             </p>,\n",
              " <p>\n",
              "                 CUI Sahiwal is committed to provide state of the art training and education to our students and prepare them for successful career in their respective fields. Our mission is to encourage learning and promote research activities in order to facilitate our students to fulfill their aims and aspirations objectively.\n",
              "             </p>,\n",
              " <p>\n",
              "                 We are offering a broad range of programs, especially in the areas of Management Sciences, Computer Science, Biosciences, Engineering and Humanities. Our programs are focused on creating crucially needed transitions toward sustainable practice. CUI Sahiwal strives to prepare a knowledge workforce which is comparable to the best in the world. This is achieved through instruction and the use of up-to-date technology. Our highly qualified faculty plays the role mentors for our students and nurtures their individual talents. We also accentuate group projects to make our students learn to be co-operative and productive as team members.\n",
              "             </p>]"
            ]
          },
          "execution_count": 48,
          "metadata": {},
          "output_type": "execute_result"
        }
      ],
      "source": [
        "soup.find_all('p')"
      ]
    },
    {
      "cell_type": "code",
      "execution_count": 51,
      "metadata": {
        "id": "EC-z0FjFw-Xp"
      },
      "outputs": [],
      "source": [
        "pragraph_two_data = soup.find_all('p')[1].get_text()"
      ]
    },
    {
      "cell_type": "code",
      "execution_count": 52,
      "metadata": {
        "colab": {
          "base_uri": "https://localhost:8080/"
        },
        "id": "RFiEVICexIQ_",
        "outputId": "da56b0cd-9853-4947-dac5-6c6c210048ca"
      },
      "outputs": [
        {
          "name": "stdout",
          "output_type": "stream",
          "text": [
            "\n",
            "                CUI Sahiwal is committed to provide state of the art training and education to our students and prepare them for successful career in their respective fields. Our mission is to encourage learning and promote research activities in order to facilitate our students to fulfill their aims and aspirations objectively.\n",
            "            \n"
          ]
        }
      ],
      "source": [
        "print(pragraph_two_data)"
      ]
    },
    {
      "cell_type": "code",
      "execution_count": 53,
      "metadata": {
        "colab": {
          "base_uri": "https://localhost:8080/"
        },
        "id": "YfJmJMdwxQhG",
        "outputId": "5e158341-5b6f-41cf-fc2e-654d85e654dd"
      },
      "outputs": [
        {
          "name": "stdout",
          "output_type": "stream",
          "text": [
            "[<li class=\"navbar-item\">\n",
            "<a class=\"navbar-item-link\" href=\"index.html\">Home</a>\n",
            "</li>, <li class=\"navbar-item\">\n",
            "<a class=\"navbar-item-link\" href=\"about.html\">About</a>\n",
            "</li>, <li class=\"navbar-item\">\n",
            "<a class=\"navbar-item-link\" href=\"campus-life.html\">Campus Life</a>\n",
            "</li>, <li class=\"navbar-item\">\n",
            "<a class=\"navbar-item-link\" href=\"faqs.html\">FAQs</a>\n",
            "</li>, <li class=\"navbar-item\">\n",
            "<a class=\"navbar-item-link\" href=\"contact.html\">Contact</a>\n",
            "</li>]\n"
          ]
        }
      ],
      "source": [
        "nabvbar_item_content = soup.find_all('li', class_='navbar-item')\n",
        "print(nabvbar_item_content)"
      ]
    },
    {
      "cell_type": "markdown",
      "metadata": {
        "id": "Qfx5-ZpWyrwE"
      },
      "source": [
        "# **Retutning the content having an ID (May be unique or not)**"
      ]
    },
    {
      "cell_type": "code",
      "execution_count": 54,
      "metadata": {
        "colab": {
          "base_uri": "https://localhost:8080/"
        },
        "id": "AfJ_6VxbydQf",
        "outputId": "64a8c728-add2-40c9-a5be-0fb17b401b4c"
      },
      "outputs": [
        {
          "name": "stdout",
          "output_type": "stream",
          "text": [
            "[]\n"
          ]
        }
      ],
      "source": [
        "nabvbar_item_content = soup.find_all('li', id='navbar-item')\n",
        "print(nabvbar_item_content)"
      ]
    },
    {
      "cell_type": "markdown",
      "metadata": {
        "id": "T2eNZibozCQL"
      },
      "source": [
        "# **Fetching Data from CSS Selector**"
      ]
    },
    {
      "cell_type": "code",
      "execution_count": 60,
      "metadata": {
        "colab": {
          "base_uri": "https://localhost:8080/"
        },
        "id": "ACIholtLypQF",
        "outputId": "33a96adb-270c-4437-b66d-bcbfead8353c"
      },
      "outputs": [
        {
          "name": "stdout",
          "output_type": "stream",
          "text": [
            "[<h5>All Rights Reserved © 2023 | Designed by CUI Sahiwal </h5>]\n"
          ]
        }
      ],
      "source": [
        "selecting_h5_from_selector = soup.select(\"div h5\")\n",
        "print(selecting_h5_from_selector)"
      ]
    },
    {
      "cell_type": "code",
      "execution_count": 61,
      "metadata": {
        "colab": {
          "base_uri": "https://localhost:8080/"
        },
        "id": "jkRS4Uqoz3cu",
        "outputId": "3e9a3a6e-2940-4393-8866-ba1f2c2a57dc"
      },
      "outputs": [
        {
          "name": "stdout",
          "output_type": "stream",
          "text": [
            "All Rights Reserved © 2023 | Designed by CUI Sahiwal\n"
          ]
        }
      ],
      "source": [
        "for h5 in selecting_h5_from_selector:\n",
        "    print(h5.get_text(strip=True))"
      ]
    },
    {
      "cell_type": "code",
      "execution_count": 68,
      "metadata": {
        "colab": {
          "base_uri": "https://localhost:8080/"
        },
        "id": "iqrZVTvv1bDR",
        "outputId": "8bb5cb41-aadf-4fa6-b46b-26d6344e91f7"
      },
      "outputs": [
        {
          "data": {
            "text/plain": [
              "[<a class=\"navbar-item-link\" href=\"index.html\">Home</a>,\n",
              " <a class=\"navbar-item-link\" href=\"about.html\">About</a>,\n",
              " <a class=\"navbar-item-link\" href=\"campus-life.html\">Campus Life</a>,\n",
              " <a class=\"navbar-item-link\" href=\"faqs.html\">FAQs</a>,\n",
              " <a class=\"navbar-item-link\" href=\"contact.html\">Contact</a>]"
            ]
          },
          "execution_count": 68,
          "metadata": {},
          "output_type": "execute_result"
        }
      ],
      "source": [
        "soup.find_all('a')"
      ]
    },
    {
      "cell_type": "code",
      "execution_count": 65,
      "metadata": {
        "id": "sT5ByeHy0Fm_"
      },
      "outputs": [],
      "source": [
        "hyper_references = soup.find_all('a')"
      ]
    },
    {
      "cell_type": "code",
      "execution_count": 67,
      "metadata": {
        "colab": {
          "base_uri": "https://localhost:8080/"
        },
        "id": "ZCwqSkmp0zp2",
        "outputId": "d7e4333f-ea09-41b2-81ce-54a0328a5961"
      },
      "outputs": [
        {
          "data": {
            "text/plain": [
              "['index.html', 'about.html', 'campus-life.html', 'faqs.html', 'contact.html']"
            ]
          },
          "execution_count": 67,
          "metadata": {},
          "output_type": "execute_result"
        }
      ],
      "source": [
        "links = []\n",
        "for link in hyper_references:\n",
        "  links.append(link.get('href'))\n",
        "links"
      ]
    },
    {
      "cell_type": "code",
      "execution_count": null,
      "metadata": {
        "id": "u04rGimU1Spj"
      },
      "outputs": [],
      "source": []
    }
  ],
  "metadata": {
    "colab": {
      "provenance": []
    },
    "kernelspec": {
      "display_name": "Python 3",
      "name": "python3"
    },
    "language_info": {
      "name": "python"
    }
  },
  "nbformat": 4,
  "nbformat_minor": 0
}
