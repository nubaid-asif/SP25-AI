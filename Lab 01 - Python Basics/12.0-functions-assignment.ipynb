{
 "cells": [
  {
   "cell_type": "markdown",
   "metadata": {},
   "source": [
    "# Module 4: Advanced Functions Assignments\n",
    "## Lesson 4.1: Defining Functions\n",
    "### Assignment 1: Fibonacci Sequence with Memoization\n",
    "\n",
    "Define a recursive function to calculate the nth Fibonacci number using memoization. Test the function with different inputs.\n",
    "\n",
    "### Assignment 2: Function with Nested Default Arguments\n",
    "\n",
    "Define a function that takes two arguments, a and b, where b is a dictionary with a default value of an empty dictionary. The function should add a new key-value pair to the dictionary and return it. Test the function with different inputs.\n",
    "\n",
    "### Assignment 3: Function with Variable Keyword Arguments\n",
    "\n",
    "Define a function that takes a variable number of keyword arguments and returns a dictionary containing only those key-value pairs where the value is an integer. Test the function with different inputs.\n",
    "\n",
    "### Assignment 4: Function with Callback\n",
    "\n",
    "Define a function that takes another function as a callback and a list of integers. The function should apply the callback to each integer in the list and return a new list with the results. Test with different callback functions.\n",
    "\n",
    "### Assignment 5: Function that Returns a Function\n",
    "\n",
    "Define a function that returns another function. The returned function should take an integer and return its square. Test the returned function with different inputs.\n",
    "\n",
    "### Assignment 6: Function with Decorators\n",
    "\n",
    "Define a function that calculates the time taken to execute another function. Apply this decorator to a function that performs a complex calculation. Test the decorated function with different inputs.\n",
    "\n",
    "### Assignment 7: Higher-Order Function for Filtering and Mapping\n",
    "\n",
    "Define a higher-order function that takes two functions, a filter function and a map function, along with a list of integers. The higher-order function should first filter the integers using the filter function and then apply the map function to the filtered integers. Test with different filter and map functions.\n",
    "\n",
    "### Assignment 8: Function Composition\n",
    "\n",
    "Define a function that composes two functions, f and g, such that the result is f(g(x)). Test with different functions f and g.\n",
    "\n",
    "### Assignment 9: Partial Function Application\n",
    "\n",
    "Use the functools.partial function to create a new function that multiplies its input by 2. Test the new function with different inputs.\n",
    "\n",
    "### Assignment 10: Function with Error Handling\n",
    "\n",
    "Define a function that takes a list of integers and returns their average. The function should handle any errors that occur (e.g., empty list) and return None in such cases. Test with different inputs.\n",
    "\n",
    "### Assignment 11: Function with Generators\n",
    "\n",
    "Define a function that generates an infinite sequence of Fibonacci numbers. Test by printing the first 10 numbers in the sequence.\n",
    "\n",
    "### Assignment 12: Currying\n",
    "\n",
    "Define a curried function that takes three arguments, one at a time, and returns their product. Test the function by providing arguments one at a time.\n",
    "\n",
    "### Assignment 13: Function with Context Manager\n",
    "\n",
    "Define a function that uses a context manager to write a list of integers to a file. The function should handle any errors that occur during file operations. Test with different lists.\n",
    "\n",
    "### Assignment 14: Function with Multiple Return Types\n",
    "\n",
    "Define a function that takes a list of mixed data types (integers, strings, and floats) and returns three lists: one containing all the integers, one containing all the strings, and one containing all the floats. Test with different inputs.\n",
    "\n",
    "### Assignment 15: Function with State\n",
    "\n",
    "Define a function that maintains state between calls using a mutable default argument. The function should keep track of how many times it has been called. Test by calling the function multiple times."
   ]
  },
  {
   "cell_type": "code",
   "execution_count": 3,
   "metadata": {},
   "outputs": [],
   "source": [
    "# Assignment 1: Fibonacci Sequence with Memoization\n",
    "def fibonacci(n, memo={}):\n",
    "    if n in memo:\n",
    "        return memo[n]\n",
    "    if n <= 1:\n",
    "        return n\n",
    "    memo[n] = fibonacci(n-1, memo) + fibonacci(n-2, memo)\n",
    "    return memo[n]"
   ]
  },
  {
   "cell_type": "code",
   "execution_count": 4,
   "id": "daea7f9d",
   "metadata": {},
   "outputs": [
    {
     "name": "stdout",
     "output_type": "stream",
     "text": [
      "Fibonacci(10): 55\n"
     ]
    }
   ],
   "source": [
    "# Testing Assignment 1\n",
    "print(\"Fibonacci(10):\", fibonacci(10))"
   ]
  },
  {
   "cell_type": "code",
   "execution_count": 5,
   "id": "dc1f092e",
   "metadata": {},
   "outputs": [],
   "source": [
    "# Assignment 2: Function with Nested Default Arguments\n",
    "def update_dict(a, b={}):\n",
    "    b[a] = len(b) + 1\n",
    "    return b"
   ]
  },
  {
   "cell_type": "code",
   "execution_count": 6,
   "id": "947c71f9",
   "metadata": {},
   "outputs": [
    {
     "name": "stdout",
     "output_type": "stream",
     "text": [
      "Update Dict: {'key1': 1}\n",
      "Update Dict: {'key1': 1, 'key2': 2}\n"
     ]
    }
   ],
   "source": [
    "# Testing Assignment 2\n",
    "print(\"Update Dict:\", update_dict(\"key1\"))\n",
    "print(\"Update Dict:\", update_dict(\"key2\"))"
   ]
  },
  {
   "cell_type": "code",
   "execution_count": 8,
   "id": "84d883f9",
   "metadata": {},
   "outputs": [],
   "source": [
    "# Assignment 3: Function with Variable Keyword Arguments\n",
    "def filter_integers(**kwargs):\n",
    "    return {k: v for k, v in kwargs.items() if isinstance(v, int)}"
   ]
  },
  {
   "cell_type": "code",
   "execution_count": 10,
   "id": "f9f2c967",
   "metadata": {},
   "outputs": [
    {
     "name": "stdout",
     "output_type": "stream",
     "text": [
      "Filter Integers: {'a': 1, 'd': 7}\n"
     ]
    }
   ],
   "source": [
    "# Testing Assignment 3\n",
    "print(\"Filter Integers:\", filter_integers(a=1, b=\"hello\", c=3.5, d=7))"
   ]
  },
  {
   "cell_type": "code",
   "execution_count": 9,
   "id": "aa8a6f71",
   "metadata": {},
   "outputs": [],
   "source": [
    "# Assignment 4: Function with Callback\n",
    "def apply_callback(callback, numbers):\n",
    "    return [callback(num) for num in numbers]"
   ]
  },
  {
   "cell_type": "code",
   "execution_count": 35,
   "id": "b64fddc3",
   "metadata": {},
   "outputs": [
    {
     "name": "stdout",
     "output_type": "stream",
     "text": [
      "Apply Callback (double values): [2, 4, 6, 8]\n"
     ]
    }
   ],
   "source": [
    "# Testing Assignment 4\n",
    "print(\"Apply Callback (double values):\", apply_callback(lambda x: x * 2, [1, 2, 3, 4]))"
   ]
  },
  {
   "cell_type": "code",
   "execution_count": 11,
   "id": "44114399",
   "metadata": {},
   "outputs": [],
   "source": [
    "# Assignment 5: Function that Returns a Function\n",
    "def get_square_function():\n",
    "    return lambda x: x ** 2"
   ]
  },
  {
   "cell_type": "code",
   "execution_count": 12,
   "id": "ee9f97b0",
   "metadata": {},
   "outputs": [
    {
     "name": "stdout",
     "output_type": "stream",
     "text": [
      "Square Function: 25\n"
     ]
    }
   ],
   "source": [
    "# Testing Assignment 5\n",
    "square_func = get_square_function()\n",
    "print(\"Square Function:\", square_func(5))"
   ]
  },
  {
   "cell_type": "code",
   "execution_count": null,
   "id": "223c21cd",
   "metadata": {},
   "outputs": [],
   "source": [
    "# Assignment 6: Function with Decorators\n"
   ]
  },
  {
   "cell_type": "code",
   "execution_count": 2,
   "id": "49748d9b",
   "metadata": {},
   "outputs": [],
   "source": [
    "# Testing Assignment 6\n"
   ]
  },
  {
   "cell_type": "code",
   "execution_count": 16,
   "id": "3ca17539",
   "metadata": {},
   "outputs": [],
   "source": [
    "# Assignment 7: Higher-Order Function for Filtering and Mapping\n",
    "def filter_and_map(filter_func, map_func, numbers):\n",
    "    return [map_func(num) for num in numbers if filter_func(num)]"
   ]
  },
  {
   "cell_type": "code",
   "execution_count": 17,
   "id": "dea897f5",
   "metadata": {},
   "outputs": [
    {
     "name": "stdout",
     "output_type": "stream",
     "text": [
      "Filter and Map: [4, 16]\n"
     ]
    }
   ],
   "source": [
    "# Testing Assignment 7\n",
    "print(\"Filter and Map:\", filter_and_map(lambda x: x % 2 == 0, lambda x: x ** 2, [1, 2, 3, 4, 5]))"
   ]
  },
  {
   "cell_type": "code",
   "execution_count": 37,
   "id": "facf2c31",
   "metadata": {},
   "outputs": [],
   "source": [
    "# Assignment 8: Function Composition\n",
    "def compose(f, g):\n",
    "    return lambda x: g(f(x))"
   ]
  },
  {
   "cell_type": "code",
   "execution_count": 38,
   "id": "33b06543",
   "metadata": {},
   "outputs": [
    {
     "name": "stdout",
     "output_type": "stream",
     "text": [
      "Function Composition: 18\n"
     ]
    }
   ],
   "source": [
    "# Testing Assignment 8\n",
    "composed_func = compose(lambda x: x + 1, lambda x: x * 2)\n",
    "print(\"Function Composition:\", composed_func(8))"
   ]
  },
  {
   "cell_type": "code",
   "execution_count": null,
   "id": "638f8396",
   "metadata": {},
   "outputs": [],
   "source": []
  },
  {
   "cell_type": "code",
   "execution_count": null,
   "id": "dc2ce617",
   "metadata": {},
   "outputs": [],
   "source": []
  },
  {
   "cell_type": "code",
   "execution_count": 22,
   "id": "d26e80e7",
   "metadata": {},
   "outputs": [],
   "source": [
    "# Assignment 10: Function with Error Handling\n",
    "def safe_average(numbers):\n",
    "    try:\n",
    "        return sum(numbers) / len(numbers)\n",
    "    except ZeroDivisionError:\n",
    "        return None"
   ]
  },
  {
   "cell_type": "code",
   "execution_count": 23,
   "id": "858e68d3",
   "metadata": {},
   "outputs": [
    {
     "name": "stdout",
     "output_type": "stream",
     "text": [
      "Safe Average: 2.0\n",
      "Safe Average (empty list): None\n"
     ]
    }
   ],
   "source": [
    "# Testing Assignment 10\n",
    "print(\"Safe Average:\", safe_average([1, 2, 3]))\n",
    "print(\"Safe Average (empty list):\", safe_average([]))"
   ]
  },
  {
   "cell_type": "code",
   "execution_count": 24,
   "id": "845a2d9f",
   "metadata": {},
   "outputs": [],
   "source": [
    "# Assignment 11: Function with Generators\n",
    "def fibonacci_generator():\n",
    "    a, b = 0, 1\n",
    "    while True:\n",
    "        yield a\n",
    "        a, b = b, a + b"
   ]
  },
  {
   "cell_type": "code",
   "execution_count": 25,
   "id": "f9d2dd79",
   "metadata": {},
   "outputs": [
    {
     "name": "stdout",
     "output_type": "stream",
     "text": [
      "First 10 Fibonacci numbers: [0, 1, 1, 2, 3, 5, 8, 13, 21, 34]\n"
     ]
    }
   ],
   "source": [
    "# Testing Assignment 11\n",
    "fib_gen = fibonacci_generator()\n",
    "print(\"First 10 Fibonacci numbers:\", [next(fib_gen) for _ in range(10)])"
   ]
  }
 ],
 "metadata": {
  "kernelspec": {
   "display_name": "Python 3",
   "language": "python",
   "name": "python3"
  },
  "language_info": {
   "codemirror_mode": {
    "name": "ipython",
    "version": 3
   },
   "file_extension": ".py",
   "mimetype": "text/x-python",
   "name": "python",
   "nbconvert_exporter": "python",
   "pygments_lexer": "ipython3",
   "version": "3.11.4"
  }
 },
 "nbformat": 4,
 "nbformat_minor": 5
}
