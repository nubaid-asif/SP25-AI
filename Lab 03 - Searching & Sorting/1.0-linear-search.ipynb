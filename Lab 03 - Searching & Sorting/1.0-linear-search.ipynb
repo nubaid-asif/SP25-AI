{
 "cells": [
  {
   "cell_type": "code",
   "execution_count": 2,
   "metadata": {},
   "outputs": [
    {
     "name": "stdout",
     "output_type": "stream",
     "text": [
      "-1\n"
     ]
    }
   ],
   "source": [
    "def linear_search(arr, target):\n",
    "    size = len(arr)\n",
    "    for index in range(0, size):\n",
    "        if(arr[index] == target):\n",
    "            return index\n",
    "    \n",
    "    return -1\n",
    "\n",
    "\n",
    "my_list = [10,23,45,70,11]\n",
    "target = 700\n",
    "\n",
    "result = linear_search(my_list, target)\n",
    "\n",
    "print(result)"
   ]
  },
  {
   "cell_type": "markdown",
   "metadata": {},
   "source": [
    "## Python Tutor: Visualize Code and Get AI Help for Python\n",
    "\n",
    "https://pythontutor.com/render.html#mode=display\n",
    "\n"
   ]
  }
 ],
 "metadata": {
  "kernelspec": {
   "display_name": "Python 3",
   "language": "python",
   "name": "python3"
  },
  "language_info": {
   "codemirror_mode": {
    "name": "ipython",
    "version": 3
   },
   "file_extension": ".py",
   "mimetype": "text/x-python",
   "name": "python",
   "nbconvert_exporter": "python",
   "pygments_lexer": "ipython3",
   "version": "3.13.2"
  }
 },
 "nbformat": 4,
 "nbformat_minor": 2
}
