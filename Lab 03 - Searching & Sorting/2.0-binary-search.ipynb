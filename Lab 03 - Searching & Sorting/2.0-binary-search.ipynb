{
 "cells": [
  {
   "cell_type": "code",
   "execution_count": null,
   "metadata": {},
   "outputs": [],
   "source": [
    "# print(5//2) # Floor Val\n",
    "\n",
    "\n",
    "def binary_search(arr,target):\n",
    "    size = len(arr)\n",
    "    start = 0\n",
    "    end = size - 1\n",
    "\n",
    "    while(start <= end):\n",
    "        mid = (start + end) // 2\n",
    "\n",
    "        if(arr[mid] == target):\n",
    "            return mid # Found the Target\n",
    "        \n",
    "        elif ( arr[mid] > target):\n",
    "            end = mid - 1\n",
    "            \n",
    "        elif(arr[mid] < target):\n",
    "            start = mid + 1\n",
    "        \n",
    "    return -1\n",
    "\n",
    "sorted_list = [10,23,35,45,50,70,85]\n",
    "target = 85\n",
    "\n",
    "result = binary_search(sorted_list, target)\n",
    "print(result)"
   ]
  },
  {
   "cell_type": "markdown",
   "metadata": {},
   "source": [
    "## Binary Search Visualizer\n",
    "\n",
    "https://binary-search-visualization.netlify.app/"
   ]
  }
 ],
 "metadata": {
  "kernelspec": {
   "display_name": "Python 3",
   "language": "python",
   "name": "python3"
  },
  "language_info": {
   "name": "python",
   "version": "3.13.2"
  }
 },
 "nbformat": 4,
 "nbformat_minor": 2
}
