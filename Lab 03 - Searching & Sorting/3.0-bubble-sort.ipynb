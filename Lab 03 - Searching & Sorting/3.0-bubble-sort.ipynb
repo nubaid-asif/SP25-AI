{
 "cells": [
  {
   "cell_type": "markdown",
   "metadata": {},
   "source": [
    "## Bubble Sort Visualizer \n",
    "https://www.hackerearth.com/practice/algorithms/sorting/bubble-sort/visualize/"
   ]
  },
  {
   "cell_type": "code",
   "execution_count": null,
   "metadata": {},
   "outputs": [],
   "source": [
    "def bubble_sort(arr):\n",
    "    n = len(arr)\n",
    "\n",
    "    for i in range(0, n - 1):\n",
    "        \n",
    "        for j in range(n - 1 - i):\n",
    "            \n",
    "            if(arr[j] > arr[j+1]):\n",
    "                arr[j], arr[j+1] = arr[j+1], arr[j]       \n",
    "    return arr\n",
    "\n",
    "\n",
    "unsorted_list = [1,10,64,34,25,12,22]\n",
    "sorted_list = bubble_sort(unsorted_list)\n",
    "print(sorted_list)"
   ]
  }
 ],
 "metadata": {
  "language_info": {
   "name": "python"
  }
 },
 "nbformat": 4,
 "nbformat_minor": 2
}
