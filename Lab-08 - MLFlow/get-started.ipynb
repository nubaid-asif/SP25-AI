{
 "cells": [
  {
   "cell_type": "markdown",
   "metadata": {},
   "source": [
    "# MLFlow Tracking Server"
   ]
  },
  {
   "cell_type": "code",
   "execution_count": 2,
   "metadata": {},
   "outputs": [],
   "source": [
    "import mlflow as mlf"
   ]
  },
  {
   "cell_type": "code",
   "execution_count": 3,
   "metadata": {},
   "outputs": [],
   "source": [
    "mlf.set_tracking_uri(\"http://127.0.0.1:5000\")"
   ]
  },
  {
   "cell_type": "code",
   "execution_count": 5,
   "metadata": {},
   "outputs": [
    {
     "name": "stdout",
     "output_type": "stream",
     "text": [
      "🏃 View run languid-kit-497 at: http://127.0.0.1:5000/#/experiments/572040282302237990/runs/77b64bf7ffaa403c877e0affea6b2ce6\n",
      "🧪 View experiment at: http://127.0.0.1:5000/#/experiments/572040282302237990\n"
     ]
    }
   ],
   "source": [
    "mlf.set_experiment(\"Checking localhost connection\")\n",
    "with mlf.start_run():\n",
    "    mlf.log_metric(\"Test\", 1)\n",
    "    mlf.log_metric(\"Testing\", 2)\n",
    "    mlf.log_metric(\"Testing 123\", 3)"
   ]
  },
  {
   "cell_type": "code",
   "execution_count": 6,
   "metadata": {},
   "outputs": [
    {
     "name": "stdout",
     "output_type": "stream",
     "text": [
      "🏃 View run overjoyed-doe-995 at: http://127.0.0.1:5000/#/experiments/572040282302237990/runs/9ae739fa1c4b49608b374eef790d5d04\n",
      "🧪 View experiment at: http://127.0.0.1:5000/#/experiments/572040282302237990\n"
     ]
    }
   ],
   "source": [
    "mlf.set_experiment(\"Checking localhost connection\")\n",
    "with mlf.start_run():\n",
    "    mlf.log_metric(\"Jamil\", 1)\n",
    "    mlf.log_metric(\"Muhammad Jamil\", 2)\n",
    "    mlf.log_metric(\"Muhammad Ahmad\", 3)"
   ]
  },
  {
   "cell_type": "code",
   "execution_count": null,
   "metadata": {},
   "outputs": [],
   "source": []
  }
 ],
 "metadata": {
  "kernelspec": {
   "display_name": "Python 3",
   "language": "python",
   "name": "python3"
  },
  "language_info": {
   "codemirror_mode": {
    "name": "ipython",
    "version": 3
   },
   "file_extension": ".py",
   "mimetype": "text/x-python",
   "name": "python",
   "nbconvert_exporter": "python",
   "pygments_lexer": "ipython3",
   "version": "3.12.9"
  }
 },
 "nbformat": 4,
 "nbformat_minor": 2
}
